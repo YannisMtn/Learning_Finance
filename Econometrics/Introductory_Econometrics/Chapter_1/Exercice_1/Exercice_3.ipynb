{
 "cells": [
  {
   "cell_type": "code",
   "execution_count": 2,
   "id": "aa82af72-589b-4d80-9fa4-8d3fe87d0b22",
   "metadata": {
    "jupyter": {
     "source_hidden": true
    }
   },
   "outputs": [
    {
     "name": "stdout",
     "output_type": "stream",
     "text": [
      "\n",
      "The data in MEAP01 are for the state of Michigan in the year 2001.\n",
      "Use these data to answer the following questions:\n",
      "\n",
      "1. [Distribution] Find the largest and smallest values of math4. Does the range make sense? Explain.\n",
      "\n",
      "2. [Perfect Scores] How many schools have a perfect pass rate on the math test? \n",
      "   What percentage is this of the total sample?\n",
      "\n",
      "3. [Threshold] How many schools have math pass rates of exactly 50%?\n",
      "\n",
      "4. [Comparison] Compare the average pass rates for math and reading scores. \n",
      "   Which test is harder to pass?\n",
      "\n",
      "5. [Correlation] Find the correlation between math4 and read4. What do you conclude?\n",
      "\n",
      "6. [Expenditure Analysis] The variable exppp is expenditure per pupil. \n",
      "   Find the average of exppp along with its standard deviation. \n",
      "   Would you say there is wide variation in per pupil spending?\n",
      "\n",
      "7. [Percentage Difference] Suppose School A spends $6,000 per student and School B spends $5,500 per student.\n",
      "   a) By what percentage does School A's spending exceed School B's?\n",
      "   b) Compare this to 100·[log(6,000) - log(5,500)], the approximation based on natural logs difference.\n",
      "     (See Section A.4 in Appendix A)\n",
      "\n"
     ]
    }
   ],
   "source": [
    "questions = \"\"\"\n",
    "The data in MEAP01 are for the state of Michigan in the year 2001.\n",
    "Use these data to answer the following questions:\n",
    "\n",
    "1. [Distribution] Find the largest and smallest values of math4. Does the range make sense? Explain.\n",
    "\n",
    "2. [Perfect Scores] How many schools have a perfect pass rate on the math test? \n",
    "   What percentage is this of the total sample?\n",
    "\n",
    "3. [Threshold] How many schools have math pass rates of exactly 50%?\n",
    "\n",
    "4. [Comparison] Compare the average pass rates for math and reading scores. \n",
    "   Which test is harder to pass?\n",
    "\n",
    "5. [Correlation] Find the correlation between math4 and read4. What do you conclude?\n",
    "\n",
    "6. [Expenditure Analysis] The variable exppp is expenditure per pupil. \n",
    "   Find the average of exppp along with its standard deviation. \n",
    "   Would you say there is wide variation in per pupil spending?\n",
    "\n",
    "7. [Percentage Difference] Suppose School A spends $6,000 per student and School B spends $5,500 per student.\n",
    "   a) By what percentage does School A's spending exceed School B's?\n",
    "   b) Compare this to 100·[log(6,000) - log(5,500)], the approximation based on natural logs difference.\n",
    "     (See Section A.4 in Appendix A)\n",
    "\"\"\"\n",
    "\n",
    "print(questions)"
   ]
  },
  {
   "cell_type": "code",
   "execution_count": null,
   "id": "0dc27a1b-61da-4392-a1a8-49a7c09589e2",
   "metadata": {},
   "outputs": [],
   "source": []
  }
 ],
 "metadata": {
  "kernelspec": {
   "display_name": "Python [conda env:base] *",
   "language": "python",
   "name": "conda-base-py"
  },
  "language_info": {
   "codemirror_mode": {
    "name": "ipython",
    "version": 3
   },
   "file_extension": ".py",
   "mimetype": "text/x-python",
   "name": "python",
   "nbconvert_exporter": "python",
   "pygments_lexer": "ipython3",
   "version": "3.13.5"
  }
 },
 "nbformat": 4,
 "nbformat_minor": 5
}
